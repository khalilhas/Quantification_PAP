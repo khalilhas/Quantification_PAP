{
 "cells": [
  {
   "cell_type": "markdown",
   "id": "5ca9c1e6-093b-4e6c-a59e-d04a276a8b28",
   "metadata": {},
   "source": [
    "## ZAF Quantification model"
   ]
  },
  {
   "cell_type": "code",
   "execution_count": 2,
   "id": "fc3ce6fb-af71-4fd5-9617-8edaac7f6f98",
   "metadata": {},
   "outputs": [],
   "source": [
    "import math\n",
    "import pandas as pd\n",
    "# Fluorescence of Fe K alpha in 10wt% Fe-90wt% Ni Alloy\n",
    "elements = [\"Ni\", \"Fe\"]\n",
    "mac_Ni_K = [58.9, 379.6] # Ni Emitter\n",
    "mac_Fe_K = [90,71.4] # Fe Emitter\n",
    "omega = [0.37, False]\n",
    "take_off_angle = 52.5\n",
    "A = [58.71,55.847]\n",
    "Z = [28, 26]\n",
    "Ec = [8.332, 7.11] # keV\n",
    "E0 = 30\n",
    "C = [0.9, 0.1]"
   ]
  },
  {
   "cell_type": "code",
   "execution_count": 11,
   "id": "e13889e5-88af-4893-8e75-7a940ea6fd74",
   "metadata": {},
   "outputs": [
    {
     "name": "stdout",
     "output_type": "stream",
     "text": [
      "X_Ni:  74.24182518520458\n",
      "X_Fe:  478.47532835829645\n",
      "X_tot 438.0519780409873\n",
      "sigma_tot 7388.332548300779\n",
      "h_tot 0.09820924224127521\n",
      "0.9390498998838342\n",
      "[+] The program is considering the emission of  Ni Ka\n",
      "  element          X\n",
      "0      Ni   73.10740\n",
      "1      Fe  433.60251\n"
     ]
    }
   ],
   "source": [
    "#### Ai Absorption ####\n",
    "### X = mac * csc(psi)\n",
    "X_Ni = mac_Ni_K[0] * (1/math.sin(math.radians(take_off_angle)))\n",
    "print('X_Ni: ', X_Ni)\n",
    "X_Fe = mac_Ni_K[1] * (1/math.sin(math.radians(take_off_angle)))\n",
    "print('X_Fe: ', X_Fe)\n",
    "X_tot = C[0] * X_Ni + C[1] * X_Fe\n",
    "print(\"X_tot\", X_tot)\n",
    "### sigma\n",
    "sigma_Ni = (4.5*pow(10,5))/(pow(E0, 1.65)-pow(Ec[0], 1.65))\n",
    "sigma_Fe = (4.5*pow(10,5))/(pow(E0, 1.65)-pow(Ec[1], 1.65))\n",
    "sigma_tot = C[0] * sigma_Ni + C[1] * sigma_Fe\n",
    "print(\"sigma_tot\", sigma_tot)\n",
    "### h = 1.2 * A/Z^2\n",
    "h_Ni = 1.2 * A[0]/pow(Z[0],2)\n",
    "h_Fe = 1.2 * A[1]/pow(Z[1],2)\n",
    "h_tot = C[0] * h_Ni + C[1] * h_Fe\n",
    "print(\"h_tot\", h_tot)\n",
    "### 1/f(X)\n",
    "reverse_f_X = (1 + X_tot/sigma_tot)*(1 + (h_tot/(1+h_tot))*X_tot/sigma_tot)\n",
    "print(1/reverse_f_X)\n"
   ]
  },
  {
   "cell_type": "code",
   "execution_count": 89,
   "id": "a03db6ea-1875-4e57-9ea7-886b6c75bb01",
   "metadata": {},
   "outputs": [
    {
     "name": "stdout",
     "output_type": "stream",
     "text": [
      "E0, take off angle, 15 , 52.5\n",
      "If_Fe_Ni/I_Fe,  0.01047216365642225\n",
      "Fi,  0.9896363660147466\n"
     ]
    }
   ],
   "source": [
    "#### Fluorescence F ####\n",
    "# correction negligible if (E-Ec) > 5keV\n",
    "# The mean depth of production of fluorescence radiation is greater than that of primary radiation (electrons)\n",
    "# The correction factor Ifij/Ii relates the intensity of radiation of element i produced by fluorescence by element j, Ifij, \n",
    "# to the electron-generated intensity of radiation from element i, Ii;.\n",
    "# REED (1965)\n",
    "# absorption jump ratio\n",
    "# (r_i - 1)/r_i = 0.88 for K line and equal 0.75 for L line \n",
    "abs_jump_ratio = {'K':0.88, 'L': 0.75}\n",
    "# Y_0 = 0.5 * ((r_i - 1)/r_i) * w_j * (A_i/A_j)\n",
    "## Fe\n",
    "Y_0 = 0.5 * (abs_jump_ratio['K'] * omega[0] * (A[1]/A[0]))\n",
    "\n",
    "Ui = E0/Ec[1]\n",
    "Uj = E0/Ec[0]\n",
    "Y_1 = pow(((Uj - 1)/(Ui - 1)),1.67)\n",
    "\n",
    "# mac_ij is the mass absorption coefficient of element i for radiation from element j\n",
    "# mac_j_spec is the mass absorption coefficient of the specimen for radiation from element j\n",
    "Y_2 = mac_Ni_K[1]/(C[0]*mac_Ni_K[0] + C[1]*mac_Ni_K[1])\n",
    "\n",
    "# Y3 account for absorption\n",
    "u = ((C[0] * mac_Fe_K[0] + C[1] * mac_Fe_K[1])/(C[0] * mac_Ni_K[0] + C[1] * mac_Ni_K[1])) * (1/math.sin(math.radians(take_off_angle)))\n",
    "\n",
    "# Ec is evaluated for element i\n",
    "v = (3.3 * pow(10,5))/((pow(E0,1.65) - pow(Ec[1],1.65))*(C[0] * mac_Ni_K[0] + C[1] * mac_Ni_K[1]))\n",
    "# Pij factor for the type of fluorescence occuring, if KK ( a K line fluoresces a K line) or LL fluorescence occurs Pij=1; KL or LK Pij = 4.76 for LK and 0.24 for KL\n",
    "Pij = 1\n",
    "Y_3 = (math.log(1 + u)/u) + (math.log(1+v)/v)\n",
    "# in case the standard is a pure element\n",
    "Ifij_by_Ii = C[0]*Y_0*Y_1*Y_2*Y_3*Pij\n",
    "Fi = 1/(1 + Ifij_by_Ii)\n",
    "print(\"E0, take off angle,\", E0,\",\",take_off_angle)\n",
    "print(\"If_Fe_Ni/I_Fe, \", Ifij_by_Ii)\n",
    "print(\"Fi, \", Fi)"
   ]
  },
  {
   "cell_type": "code",
   "execution_count": 56,
   "id": "f6001ac2-01a8-438a-b31a-3d53e745a4a4",
   "metadata": {},
   "outputs": [
    {
     "name": "stdout",
     "output_type": "stream",
     "text": [
      "Average atomic number of the specimen:  28.68\n",
      "R Al,  0.9102364973019827\n",
      "R Cu,  0.9681663709445439\n",
      "Cu Ka: \n",
      "U, overvoltage 1.6703786191536747\n",
      "R1,  1.6412286412601202\n",
      "R2,  0.1888656935816759\n",
      "R3,  0.7918338925748151\n",
      "J,  [162.9983655505653, 314.05142382876625]\n",
      "S_Cu 0.07257841326676809\n",
      "S_Al 0.09488484963049472\n",
      "\n",
      "## For the standard:\n",
      "Si standard,  0.07223411799733445\n",
      "Ri standard,  0.9102364973019827\n",
      "\n",
      "## For the specimen:\n",
      "The Ri star is,  0.9670077734716926\n",
      "The Si star is,  0.07302454199404262\n"
     ]
    },
    {
     "data": {
      "text/plain": [
       "'\\nAs discussed earlier unless the atomic number effect is corrected for, \\nanalyses of heavy elements in a light element matrix (Cu in AI) generally \\nyield values which are too low (Zj > I) while analyses of light elements \\nin a heavy matrix (AI in Cu) usually yield values which are too high (Zj < I).\\n'"
      ]
     },
     "execution_count": 56,
     "metadata": {},
     "output_type": "execute_result"
    }
   ],
   "source": [
    "#### Test data\n",
    "elements = [\"Al\",\"Cu\"]\n",
    "C = [.02, .98]\n",
    "Z = [13,29]\n",
    "A = [26.98, 63.55]\n",
    "Ec = [1.56, 8.98]\n",
    "E0 = 15\n",
    "mac_Cu_K = [49.6, 53.7]\n",
    "mac_Al_K = [385.7, 5377]\n",
    "take_off_angle =  52.5\n",
    "#### Atomic Number Factor Z ####\n",
    "# The so-called atomic number effect in electron microprobe analysis arises from two phenomena, namely, electron backscattering and electron retardation.\n",
    "# both of which depend upon the average atomic number of the target.\n",
    "# ! this correction is needed if there is a difference between the average atomic number of the specimen and that of the standard\n",
    "# “light elements in a heavy matrix usually yield values which are too high.” ([Goldstein et al., 1981, p. 317])\n",
    "avg_z_spec = C[0]*Z[0] + C[1]*Z[1]\n",
    "print('Average atomic number of the specimen: ',avg_z_spec)\n",
    "############################## for Cu Ka ############################## \n",
    "## R backscattering correction factors range from 0.5-1 (close to 1 at low atomic numbers) \n",
    "# varies with Z and overvoltage U = Eo/Ec (as decreases towards 1 few electrons are backscattered\n",
    "U = E0/Ec[1]\n",
    "R1 = 8.73 * 0.001 * pow(U,3) - 0.1669 * pow(U,2) + 0.9662 * U + 0.4523\n",
    "R2 = 2.703 * 0.001 * pow(U,3) - 5.182 * 0.01 * pow(U,2) + 0.302*U -0.1836\n",
    "R3 = (0.887 * pow(U,3) - 3.44 * U * U + 9.33 * U - 6.43)/pow(U,3)\n",
    "\n",
    "R_Cu = R1 - R2 * math.log(R3*Z[0] + 25)\n",
    "R_Al = R1 - R2 * math.log(R3*Z[1] + 25)\n",
    "\n",
    "print(\"R Al, \", R_Al)\n",
    "print(\"R Cu, \", R_Cu)\n",
    "print(\"Cu Ka: \")\n",
    "print(\"U, overvoltage\", U)\n",
    "print(\"R1, \", R1)\n",
    "print(\"R2, \", R2)\n",
    "print(\"R3, \", R3)\n",
    "\n",
    "# Ri = sum(j) CjRij\n",
    "# Ri = C[0] * Rij\n",
    "# # mean ionization potential J = 9.76 * Z + 58.8 * pow(Z, -0.19) [eV] # Berger and Seltzer (1964)\n",
    "J = [9.76 * Z[0] + 58.8 * pow(Z[0], -0.19), 9.76 * Z[1] + 58.8 * pow(Z[1], -0.19)]\n",
    "print(\"J, \", J)\n",
    "# # S is the electron stopping power \n",
    "# # “i represents the element i which is measured and j represents each of the elements present in the standard or specimen including element i.” ([Goldstein et al., 1981, p. 319]\n",
    "S_Cu_Al = (Z[0] / (A[0]*(E0 + Ec[1]))) * math.log(583*(E0+Ec[1])/J[0])\n",
    "S_Cu_Cu = (Z[1] / (A[1]*(E0 + Ec[1]))) * math.log(583*(E0+Ec[1])/J[1])\n",
    "S_Cu = C[0]*S_Cu_Al + C[1] * S_Cu_Cu\n",
    "print(\"S_Cu\", S_Cu)\n",
    "# Al\n",
    "S_Al_Cu = (Z[1] / (A[1]*(E0 + Ec[0]))) * math.log(583*(E0+Ec[0])/J[1])\n",
    "S_Al_Al = (Z[0] / (A[0]*(E0 + Ec[0]))) * math.log(583*(E0+Ec[0])/J[0])\n",
    "S_Al = C[0]*S_Al_Al + C[1] * S_Al_Cu\n",
    "print(\"S_Al\", S_Al)\n",
    "## For the standard\n",
    "# Using a Cu standard\n",
    "print(\"\\n## For the standard:\")\n",
    "Si = (Z[1] / (A[1]*(E0 + Ec[1]))) * math.log(583*(E0+Ec[1])/J[1])\n",
    "print(\"Si standard, \", Si)\n",
    "# R Standard\n",
    "U = E0/Ec[1]\n",
    "R1 = 8.73 * 0.001 * pow(U,3) - 0.1669 * pow(U,2) + 0.9662 * U + 0.4523\n",
    "R2 = 2.703 * 0.001 * pow(U,3) - 5.182 * 0.01 * pow(U,2) + 0.302*U -0.1836\n",
    "R3 = (0.887 * pow(U,3) - 3.44 * U * U + 9.33 * U - 6.43)/pow(U,3)\n",
    "Ri = R1 - R2 * math.log(R3*Z[1] + 25)\n",
    "print(\"Ri standard, \", Ri)\n",
    "## For the speciment\n",
    "Ri_star = C[0] * R_Al + C[1] * R_Cu\n",
    "Si_star = C[0] * S_Al + C[1] * S_Cu\n",
    "print(\"\\n## For the specimen:\")\n",
    "print(\"The Ri star is, \", Ri_star)\n",
    "print(\"The Si star is, \", Si_star)\n",
    "# # if the integration and the Zi equation is avoided and Q the cross section is constant, we have (Heinrich and Yakowitz, 1970)\n",
    "# Zi = (Ri/Ri*) * (Si*/Si)\n",
    "\n",
    "\"\"\"\n",
    "As discussed earlier unless the atomic number effect is corrected for, \n",
    "analyses of heavy elements in a light element matrix (Cu in AI) generally \n",
    "yield values which are too low (Zj > I) while analyses of light elements \n",
    "in a heavy matrix (AI in Cu) usually yield values which are too high (Zj < I).\n",
    "\"\"\"\n"
   ]
  },
  {
   "cell_type": "code",
   "execution_count": null,
   "id": "b0431790-db2c-41ce-afb6-02563dc672a9",
   "metadata": {},
   "outputs": [],
   "source": []
  }
 ],
 "metadata": {
  "kernelspec": {
   "display_name": "Python 3 (ipykernel)",
   "language": "python",
   "name": "python3"
  },
  "language_info": {
   "codemirror_mode": {
    "name": "ipython",
    "version": 3
   },
   "file_extension": ".py",
   "mimetype": "text/x-python",
   "name": "python",
   "nbconvert_exporter": "python",
   "pygments_lexer": "ipython3",
   "version": "3.9.7"
  }
 },
 "nbformat": 4,
 "nbformat_minor": 5
}
