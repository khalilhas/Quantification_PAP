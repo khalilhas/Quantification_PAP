{
 "cells": [
  {
   "cell_type": "markdown",
   "id": "0cc1100e",
   "metadata": {},
   "source": [
    "Deceleration of electrons:\n",
    "Bethe Law is used to calculate the average energy loss,\n",
    "\n",
    "##### The PAP calculation is performed in two steps:\n",
    "* Calculation of the area of the distribution, equivalent in principle to that of an atomic number correction\n",
    "* Direct calculation of the generated intensity, on the basis for the distribution phi(rho.z) which is defined by its area and by the parameters of form adapted to the selected mathematical representation"
   ]
  },
  {
   "cell_type": "code",
   "execution_count": 7,
   "id": "aa92cf6c-de87-48fe-b9f6-e3ffc014b27c",
   "metadata": {},
   "outputs": [
    {
     "name": "stdout",
     "output_type": "stream",
     "text": [
      "  element  atomic_number\n",
      "0      Fe             26\n"
     ]
    }
   ],
   "source": [
    "import math\n",
    "import pandas as pd\n",
    "import numpy as np\n",
    "import sqlite3\n",
    "import ZAF as zaf\n",
    "# plotting\n",
    "import matplotlib.pyplot as plt\n",
    "# inputs\n",
    "elements = ['Fe','Ni']\n",
    "elements_df = zaf.get_element(elements)\n",
    "C = {'Fe':0.1, 'Ni':0.9}\n",
    "Ec = {'Fe': 7.11, 'Ni': 8.332} ### Check if you have to add all the lines and what to put for H\n",
    "E = 15 # in keV\n",
    "# import the constants\n",
    "A = elements_df[['element','molar_mass']]\n",
    "Z = elements_df[['element','atomic_number']]\n",
    "density = elements_df[['element','density']]\n",
    "# import MAC\n",
    "mac = zaf.get_mac(elements, file_mac='Henke 1993_modified.txt')\n",
    "print(Z[Z['element'] == 'Fe'])"
   ]
  },
  {
   "cell_type": "code",
   "execution_count": 8,
   "id": "fade77f8-9567-404e-b175-5efd7dc05915",
   "metadata": {},
   "outputs": [
    {
     "name": "stdout",
     "output_type": "stream",
     "text": [
      "[+] dE/dps:  [-194.34381608]\n",
      "[+] V:  50.275346541764314\n",
      "[+] J:  0.2983569688085457\n",
      "[+] M:  [0.47590724]\n",
      "[+] Ro [g/cm2]:  [0.0009488]\n"
     ]
    }
   ],
   "source": [
    "# area parameter (number of primary ionizations)\n",
    "#1 deceleration of electrons\n",
    "def f(E,J):\n",
    "    res = 0\n",
    "    Dk = [6.6*pow(10,-6), 1.12*pow(10,-5)*(1.35-0.45*pow(J,2)), 2.2*pow(10,-6)/J]\n",
    "    Pk = [0.78, 0.1, -(0.5-0.25*J)]\n",
    "    for i in range(3):\n",
    "        res += Dk[i]*(E/J)*pow(E/J, Pk[i])\n",
    "    return res\n",
    "def dE_dps_calc(E,C,Z,A):\n",
    "    lnJ = 0\n",
    "    M = 0\n",
    "    # M\n",
    "    for element in elements:\n",
    "        z_element = Z[Z['element'] == element].atomic_number.values\n",
    "        a_element = A[A['element'] == element].molar_mass.values\n",
    "        M += C[element] * z_element/a_element\n",
    "    # Ji, J\n",
    "    for element in elements: \n",
    "        z_element = Z[Z['element'] == element].atomic_number.values\n",
    "        a_element = A[A['element'] == element].molar_mass.values\n",
    "        Ji = pow(10,-3) * z_element *(10.04 + 8.25 * math.exp(-z_element/11.22)) # in keV\n",
    "        lnJi = math.log(Ji)\n",
    "        lnJ += (C[element]*(z_element/a_element)*lnJi)/M\n",
    "    J = math.exp(lnJ) # in keV\n",
    "    V = E/J\n",
    "    # Ro\n",
    "    Dk = [6.6*pow(10,-6), 1.12*pow(10,-5)*(1.35-0.45*pow(J,2)), 2.2*pow(10,-6)/J]\n",
    "    Pk = [0.78, 0.1, -(0.5-0.25*J)]\n",
    "    Ro = 0\n",
    "    for i in range(3):\n",
    "        Ro += (1/M)*(pow(J,1-Pk[i])*Dk[i]*pow(E,1+Pk[i])/(1+Pk[i]))\n",
    "    dE_dps = -(M/J)*[1/f(E,J)] # keV.g-1.cm2\n",
    "    return dE_dps,V,J,M,Ro\n",
    "# calculate the deceleration\n",
    "dE_dps,V,J,M,Ro = dE_dps_calc(E,C,Z,A)\n",
    "\n",
    "print(\"[+] dE/dps: \", dE_dps)\n",
    "print(\"[+] V: \", V)\n",
    "print(\"[+] J: \", J)\n",
    "print(\"[+] M: \", M)\n",
    "print(\"[+] Ro [g/cm2]: \", Ro)"
   ]
  },
  {
   "cell_type": "code",
   "execution_count": 9,
   "id": "cbb14a0a-2ff3-45de-8406-8e9a38467c51",
   "metadata": {},
   "outputs": [
    {
     "name": "stdout",
     "output_type": "stream",
     "text": [
      "1/S:  [3.67882138e-06]\n"
     ]
    }
   ],
   "source": [
    "# Ionization cross section\n",
    "inverse_S = 0\n",
    "#input\n",
    "excited_element = 'Fe'\n",
    "excited_line = 'K'\n",
    "# calculating 1/S\n",
    "Uo = E/Ec[excited_element]\n",
    "Vo = V #### IS THIS TRUE???? ####\n",
    "k = [6.6*pow(10,-6), 1.12*pow(10,-5)*(1.35-0.45*pow(J,2)), 2.2*pow(10,-6)/J]\n",
    "Pk = [0.78, 0.1, -(0.5-0.25*J)]\n",
    "m_k=0.86 + 0.12 * math.exp(-pow((Z[Z['element'] == excited_element].atomic_number.values)/5, 2))\n",
    "m_values= {'K': m_k,\n",
    "    'L': 0.82,\n",
    "    'M': 0.78}\n",
    "m = m_values['K']\n",
    "T = [1+Pk[0]-m, 1+Pk[1]-m, 1+Pk[2]-m]\n",
    "for i in range(3):\n",
    "    inverse_S += (Uo/(Vo*M)) * k[i]* pow(Vo/Uo, Pk[i]) * (T[i]*pow(Uo, T[i])*math.log(Uo)-pow(Uo,T[i])+1)/pow(T[i],2)\n",
    "print(\"1/S: \", inverse_S)"
   ]
  },
  {
   "cell_type": "code",
   "execution_count": 10,
   "id": "201ba8a4-98ab-4cea-9399-4d0cceabb3a7",
   "metadata": {},
   "outputs": [
    {
     "name": "stdout",
     "output_type": "stream",
     "text": [
      "Backscatter factor R: [0.99641447]\n",
      "Uo: 2.109704641350211\n",
      "R : [0.99641447]\n",
      "1/S:  [3.67882138e-06]\n",
      "Q:  0.055253206266280816\n",
      "F: [2.02537858e-07]\n"
     ]
    }
   ],
   "source": [
    "# Backscatter factor R\n",
    "# After calculating R/S, representing the primary intensity, and Q^A_l(Eo), one determines the area F of the distribution phi(pz):\n",
    "# F = (R/S)Q\n",
    "\n",
    "######################## Appendix I\n",
    "# Z_b_bar\n",
    "Z_b_bar = 0\n",
    "for element in elements:\n",
    "    z_element = Z[Z['element'] == element].atomic_number.values\n",
    "    Z_b_bar += C[element] * pow(z_element,1/2)\n",
    "Z_b_bar = pow(Z_b_bar, 2)\n",
    "# eta bar\n",
    "eta_bar = 1.75*pow(10,-3)*Z_b_bar + 0.37*(1-math.exp(-0.015*pow(Z_b_bar, 1.3)))\n",
    "# J(Uo)\n",
    "def J_func(Uo):\n",
    "    J = 1+Uo*(math.log(Uo) - 1)\n",
    "    return J\n",
    "# G(Uo)\n",
    "def G(Uo, W_bar):\n",
    "    q = (2 * W_bar - 1) / (1 - W_bar)\n",
    "    G = (Uo-1-(1-1/pow(Uo, 1+q))/(1+q))/((2+q)*J_func(Uo))\n",
    "    return G\n",
    "\n",
    "W_bar = 0.595 * eta_bar/3.7 + pow(eta_bar,4.55)\n",
    "R = 1 - eta_bar * W_bar*(1-G(Uo,W_bar))\n",
    "print(\"Backscatter factor R:\", R)\n",
    "# F\n",
    "cross_section = math.log(Uo)/(pow(Uo, m)*Ec[excited_element]*Ec[excited_element])\n",
    "F = (R*inverse_S) * cross_section\n",
    "print('Uo:', Uo)\n",
    "print('R :', R)\n",
    "print('1/S: ', inverse_S)\n",
    "print('Q: ',cross_section)\n",
    "print('F:', F)"
   ]
  },
  {
   "cell_type": "code",
   "execution_count": 18,
   "id": "6dc41707-fe99-4748-8567-4f405ef3e007",
   "metadata": {},
   "outputs": [
    {
     "data": {
      "text/plain": [
       "[<matplotlib.lines.Line2D at 0x1fe1324ba90>]"
      ]
     },
     "execution_count": 18,
     "metadata": {},
     "output_type": "execute_result"
    },
    {
     "data": {
      "image/png": "[encoded data removed]",
      "text/plain": [
       "<Figure size 432x288 with 1 Axes>"
      ]
     },
     "metadata": {
      "needs_background": "light"
     },
     "output_type": "display_data"
    }
   ],
   "source": [
    "######## phi(rhoz)\n",
    "r = 2 - 2.3 * eta_bar\n",
    "# Phio\n",
    "phi0 = 1 + 3.3 * (1-1/pow(Uo,r))* pow(eta_bar, 1.2)\n",
    "# Z_bar_n\n",
    "lnZ_bar_n = 0\n",
    "for element in elements:\n",
    "    z_element = Z[Z['element'] == element].atomic_number.values\n",
    "    lnZ_bar_n += C[element] * math.log(z_element)\n",
    "Z_bar_n = math.exp(lnZ_bar_n)\n",
    "\n",
    "def phi(pz, phi0, Z_bar_n, M, J):\n",
    "    Eo = E\n",
    "    D1 = 6.6*pow(10,-6)\n",
    "    D2 =1.12*pow(10,-5)*(1.35-0.45*pow(J,2))\n",
    "    D3 = 2.2*pow(10,-6)/J\n",
    "    Dk = [D1,D2,D3]\n",
    "    Pk = [0.78, 0.1, -(0.5-0.25*J)]\n",
    "    Z_bar = 0\n",
    "    for element in elements:\n",
    "        z_element = Z[Z['element'] == element].atomic_number.values\n",
    "        Z_bar += C[element] * z_element\n",
    "    \n",
    "    # Rx the range of ionization\n",
    "    # Ro is the total trajectory of the electrons between Eo and El\n",
    "    # Q is a function of overvolatge and atomic number\n",
    "    b = 40/Z_bar\n",
    "    Qo = 1 - 0.535 * math.exp(-pow(21/Z_bar_n, 1.2)) - 2.5*pow(10,-4)*pow(Z_bar_n/20, 3.5)\n",
    "    Q = Qo + (1-Qo)*math.exp(-(Uo-1)/b)\n",
    "    # D\n",
    "    h = pow(Z_bar, 0.45)\n",
    "    D = 1+1/pow(Uo,h)\n",
    "    # Ro\n",
    "    Ro = 0\n",
    "    for i in range(3):\n",
    "        Ro += (1/M) * pow(J, 1-Pk[i]) * Dk[i] * (pow(Eo,1+Pk[i])-pow(Ec[excited_element], 1+Pk[i])/(1+Pk[i]))\n",
    "    \n",
    "    # Rx\n",
    "    Rx = Q * D * Ro\n",
    "    \n",
    "    # Rm depth of the maximum of the distribution\n",
    "    G1 = 0.11 * 0.41 * math.exp(-pow(Z_bar/12.75, 0.75))\n",
    "    G2 = 1 - math.exp(-pow((Uo - 1), 0.35)/1.19)\n",
    "    G3 = 1 - math.exp(-(Uo-0.5)*pow(Z_bar,0.4)/4)\n",
    "    Rm = G1 * G2 * G3 * Rx\n",
    "    # d\n",
    "    d = (Rx-Rm)*((F-phi0*Rx/3) * ((Rx-Rm)*F - phi0*Rx*(Rm+Rx/3)))\n",
    "    # Rc\n",
    "    Rc = (3/2)\n",
    "    Rc *= (((F - phi0*Rx/3)/phi0) - pow(d, 1/2)/(phi0*(Rx-Rm)))\n",
    "    A1 = phi0 /(Rm*(Rc - Rx * (Rc/Rm - 1)))\n",
    "    B1 = phi0 - A1 * Rm*Rm\n",
    "    A2 = A1 * (Rc - Rm)/(Rc - Rx)\n",
    "    \n",
    "    if pz >=0 or pz <= Rc:\n",
    "        phi = A1 * (pz - Rm) * (pz - Rm) + B1\n",
    "    if pz > Rc or pz <= Rx:\n",
    "        phi = A2 * (pz - Rx) * (pz - Rx)\n",
    "        \n",
    "    # Absorption factor \n",
    "    F1 = (A1/X)*(((Rc-Rm) * (Rx-Rc-2/X)-2/(X*X))*math.exp(-X*Rc) - (Rc-Rm)*Rx + Rm*(Rc-2/X) + 2/(X*X))\n",
    "    F2 = (A2/X)*(((Rx-Rc) * (Rx-Rc-2/X)-2/(X*X))*math.exp(-X*Rc) - (2/(X*X)*math.exp(-X*Rx)))\n",
    "    f_X = (F1+F2)/F\n",
    "    return phi\n",
    "pz = np.linspace(0,1000,100)\n",
    "phi_a = []\n",
    "for value in pz:\n",
    "    phi_a.append(phi(value,phi0,Z_bar_n,M,J))\n",
    "plt.plot(pz,phi_a)"
   ]
  },
  {
   "cell_type": "code",
   "execution_count": null,
   "id": "2c401091-a251-47bd-848d-038044085f68",
   "metadata": {},
   "outputs": [],
   "source": [
    "nMsEl = len(elements)\n",
    "# calculating IntPAPstd in each standard\n",
    "IntPAPstd = CalcI(Std_AtWtPc, Eo, MACkalpha)"
   ]
  },
  {
   "cell_type": "code",
   "execution_count": null,
   "id": "f2dc922a-3970-464f-a246-9e8f9636bdfc",
   "metadata": {},
   "outputs": [],
   "source": []
  },
  {
   "cell_type": "code",
   "execution_count": null,
   "id": "681015d6-a61c-4cb2-94e6-5e5c5fb64341",
   "metadata": {},
   "outputs": [],
   "source": []
  }
 ],
 "metadata": {
  "kernelspec": {
   "display_name": "Python 3 (ipykernel)",
   "language": "python",
   "name": "python3"
  },
  "language_info": {
   "codemirror_mode": {
    "name": "ipython",
    "version": 3
   },
   "file_extension": ".py",
   "mimetype": "text/x-python",
   "name": "python",
   "nbconvert_exporter": "python",
   "pygments_lexer": "ipython3",
   "version": "3.9.7"
  }
 },
 "nbformat": 4,
 "nbformat_minor": 5
}
