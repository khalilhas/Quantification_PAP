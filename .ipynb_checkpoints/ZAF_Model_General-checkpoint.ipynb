{
 "cells": [
  {
   "cell_type": "markdown",
   "id": "a6aa56d4-cb44-45de-991a-5d4e339011ef",
   "metadata": {},
   "source": [
    "## General ZAF MODEL:"
   ]
  },
  {
   "cell_type": "code",
   "execution_count": null,
   "id": "ef984fdd-d6f9-4c9a-802b-0e8193691a9a",
   "metadata": {},
   "outputs": [
    {
     "name": "stdout",
     "output_type": "stream",
     "text": [
      "[+] The program is considering the emission of  Fe Ka\n",
      "  abs  mac\n",
      "0  Ni   94\n",
      "1  Fe   68\n",
      "     zAbs zMes     Ka  Kb   La   Lb   Ll   Ma   Mb\n",
      "0      H    H       0   0    0    0    0    0    0\n",
      "1      H    He      0   0    0    0    0    0    0\n",
      "2      H    Li  10734   0    0    0    0    0    0\n",
      "3      H    Be    970   0    0    0    0    0    0\n",
      "4      H    B     161   0    0    0    0    0    0\n",
      "...   ...  ...    ...  ..  ...  ...  ...  ...  ...\n",
      "8459   U    Ra      0   0  118   67  175  864  775\n",
      "8460   U    Ac      0   0  110   61  164  802  719\n",
      "8461   U    Th      0   0  100   55  151  734  657\n",
      "8462   U    Pa      0   0   94   51  143  689  615\n",
      "8463   U    U       0   0   86  109  131  629  550\n",
      "\n",
      "[8464 rows x 9 columns]\n"
     ]
    }
   ],
   "source": [
    "import math\n",
    "import pandas as pd\n",
    "import numpy as np\n",
    "# import MAC\n",
    "mac_df = pd.read_csv(\"Henke 1993.txt\")\n",
    "# !inputs: concentrations, take off angle and accelerating voltage\n",
    "elements = ['Ni', 'Fe']\n",
    "C = {'Ni': 0.9, 'Fe': 0.1}\n",
    "Ec = {'Ni': 8.332 , 'Fe': 7.11}\n",
    "A = {'Ni': 58.71 , 'Fe': 55.847}\n",
    "Z = {'Ni': 28 , 'Fe': 26}\n",
    "\n",
    "take_off_angle = 52.5\n",
    "E0 = 15 # keV\n",
    "\n",
    "# for the emission of \n",
    "emission = {'element':'Fe', 'line':'Ka'}\n",
    "\n",
    "# calculating X for each element\n",
    "print(\"[+] The program is considering the emission of \", emission['element'], emission['line'])\n",
    "# Extracting the needed MAC from the Henke database\n",
    "sample_mac = pd.DataFrame()\n",
    "for idx, value in enumerate(elements):\n",
    "    new_row = pd.DataFrame({'abs': [value], 'mac': [mac_df[(mac_df['zAbs'] == value) & (mac_df['zMes'] == emission['element'])][emission['line']].values[0]] })\n",
    "    sample_mac = sample_mac.append(new_row, ignore_index=True)\n",
    "print(sample_mac)\n",
    "print(mac_df)"
   ]
  },
  {
   "cell_type": "code",
   "execution_count": null,
   "id": "1a3ac459-5998-4860-86db-6faef2b9e362",
   "metadata": {},
   "outputs": [
    {
     "name": "stdout",
     "output_type": "stream",
     "text": [
      "Absorption correction factor for Al Ll 1.4302029335703221\n"
     ]
    }
   ],
   "source": [
    "############### Ai absorption general ############### \n",
    "# Calculating the X & sigma & h\n",
    "# X\n",
    "X = pd.DataFrame()\n",
    "X_tot = 0\n",
    "# sigma\n",
    "sigma = pd.DataFrame()\n",
    "sigma_tot = 0\n",
    "# h\n",
    "h = pd.DataFrame()\n",
    "h_tot = 0\n",
    "for idx, value in enumerate(elements):\n",
    "    # calculating X\n",
    "    new_row = pd.DataFrame({'element': [value], 'X': sample_mac[sample_mac['abs'] == value]['mac'].values[0] * (1/math.sin(math.radians(take_off_angle)))})\n",
    "    X = X.append(new_row, ignore_index=True)\n",
    "    # calculating X total\n",
    "    X_tot = X_tot + C[value] * sample_mac[sample_mac['abs'] == value]['mac'].values[0] * (1/math.sin(math.radians(take_off_angle)))\n",
    "    # Calculating sigma\n",
    "    new_row = pd.DataFrame({'element': [value], 'sigma': (4.5*pow(10,5))/(pow(E0, 1.65)-pow(Ec[value], 1.65))})\n",
    "    sigma = sigma.append(new_row, ignore_index=True)\n",
    "    # calculating sigma total\n",
    "    sigma_tot = sigma_tot + C[value] * (4.5*pow(10,5))/(pow(E0, 1.65)-pow(Ec[value], 1.65))\n",
    "    # calculating h; h = 1.2 * A/Z^2\n",
    "    new_row = pd.DataFrame({'element': [value], 'h': 1.2 * A[value]/pow(Z[value],2)}) \n",
    "    h = h.append(new_row, ignore_index=True)\n",
    "    # calculating h total\n",
    "    h_tot = h_tot + C[value] * 1.2 * A[value]/pow(Z[value],2)\n",
    "# calculating the 1/f(X)\n",
    "reverse_f_X = (1 + X_tot/sigma_tot)*(1 + (h_tot/(1+h_tot))*X_tot/sigma_tot)\n",
    "print(\"Absorption correction factor for\",emission['element'] , emission['line'], reverse_f_X)"
   ]
  },
  {
   "cell_type": "code",
   "execution_count": null,
   "id": "360cc68a-32ff-4769-bbc8-995b6c1da96e",
   "metadata": {},
   "outputs": [
    {
     "name": "stdout",
     "output_type": "stream",
     "text": [
      "E0, take off angle, 2 , 45\n",
      "If_Al_O/I_Al,  3.393451612191698e-05\n",
      "Emitting element Al Ll studied, Fluorescers:  ['Ka'] , Fi Correction: 0.9999660666353903\n"
     ]
    }
   ],
   "source": [
    "#### Fluorescence F ####\n",
    "# correction negligible if (E-Ec) > 5keV\n",
    "# The mean depth of production of fluorescence radiation is greater than that of primary radiation (electrons)\n",
    "# The correction factor Ifij/Ii relates the intensity of radiation of element i produced by fluorescence by element j, Ifij, \n",
    "# to the electron-generated intensity of radiation from element i, Ii;.\n",
    "# REED (1965)\n",
    "# absorption jump ratio\n",
    "\"\"\"\n",
    "    @input: list of elements causing the parasitic fluorescence \"Fluorescer\"\n",
    "\"\"\"\n",
    "# Test data\n",
    "# to remove!!!!!\n",
    "# C = {'Ni': 0.9, 'Fe': 0.1}\n",
    "# emission = {'element':'Fe', 'line':'Ka'}\n",
    "# End test data\n",
    "# inputs \n",
    "fluorescers = ['Ni']\n",
    "fluo_line = ['Ka']\n",
    "fluo_yield = {'Ni':0.37}\n",
    "# Pij factor for the type of fluorescence occuring, if KK ( a K line fluoresces a K line) or LL fluorescence occurs Pij=1; KL or LK Pij = 4.76 for LK and 0.24 for KL\n",
    "Pij = 1\n",
    "# (r_i - 1)/r_i = 0.88 for K line and equal 0.75 for L line \n",
    "abs_jump_ratio = {'K':0.88, 'L': 0.75}\n",
    "# Y_0 = 0.5 * ((r_i - 1)/r_i) * w_j * (A_i/A_j)\n",
    "## Fe\n",
    "\"\"\"\n",
    "    abs_jump_ration @input\n",
    "\"\"\"\n",
    "# is the mass absorption coefficient of the specimen for radiation from element i,\n",
    "# i emitter, j absorber\n",
    "mac_sample_i = 0\n",
    "for idx2,value2 in enumerate(elements):\n",
    "    mac_sample_i = mac_sample_i + C[value2] * mac_df[(mac_df['zAbs'] == value2) & (mac_df['zMes'] == emission['element'])][emission['line']].values[0]\n",
    "\n",
    "Ifij_by_Ii = 0\n",
    "for idx, value in enumerate(fluorescers):\n",
    "    # abs_jump_ratio used for K line since we are interested by the K line of the element\n",
    "    Y_0 = 0.5 * (abs_jump_ratio['K'] * fluo_yield[value] * (A[emission['element']]/A[value]))\n",
    "    Ui = E0/Ec[emission['element']]\n",
    "    Uj = E0/Ec[value]\n",
    "    Y_1 = pow(((Uj - 1)/(Ui - 1)), 1.67)\n",
    "    \n",
    "    # mac_ij is the mass absorption coefficient of element i for radiation from element j\n",
    "    # mac_j_spec is the mass absorption coefficient of the specimen for radiation from element j\n",
    "    # is the mass absorption coefficient of the specimen for radiation from element j.\n",
    "    mac_sample_j = 0\n",
    "    for idx2,value2 in enumerate(elements):\n",
    "        mac_sample_j = mac_sample_j + C[value2] * mac_df[(mac_df['zAbs'] == value2) & (mac_df['zMes'] == value)][fluo_line[idx]].values[0]\n",
    "    Y_2 = mac_df[(mac_df['zAbs'] == emission['element']) & (mac_df['zMes'] == value)][fluo_line[idx]].values[0]\n",
    "    Y_2 = Y_2/mac_sample_j\n",
    "\n",
    "    # Y3 account for absorption\n",
    "    u = ((mac_sample_i)/(mac_sample_j)) * (1/math.sin(math.radians(take_off_angle)))\n",
    "    \n",
    "    # Ec is evaluated for element i\n",
    "    v = (3.3 * pow(10,5))/((pow(E0,1.65) - pow(Ec[emission['element']],1.65))*(mac_sample_j))\n",
    "\n",
    "    Y_3 = (math.log(1 + u)/u) + (math.log(1+v)/v)\n",
    "    # in case the standard is a pure element\n",
    "    Ifij_by_Ii = Ifij_by_Ii + C[value]*Y_0*Y_1*Y_2*Y_3*Pij\n",
    "Fi = 1/(1 + Ifij_by_Ii)\n",
    "print(\"E0, take off angle,\", E0,\",\",take_off_angle)\n",
    "print(\"If_Fe_Ni/I_Fe, \", Ifij_by_Ii)\n",
    "print(\"Emitting element\", emission['element'], emission['line'], 'studied,', 'Fluorescers: ', fluo_line,', Fi Correction:', Fi)"
   ]
  },
  {
   "cell_type": "markdown",
   "id": "11c6a5d1-8e50-4820-86f8-d07850e2e9cf",
   "metadata": {},
   "source": [
    "## Z correction:"
   ]
  },
  {
   "cell_type": "code",
   "execution_count": null,
   "id": "5a5b659f-2264-459d-b056-bcbd8968ed4c",
   "metadata": {},
   "outputs": [
    {
     "name": "stdout",
     "output_type": "stream",
     "text": [
      "Average atomic number of the specimen:  10.645199999999999\n",
      "\n",
      "## Rij for the specimen:\n",
      "          Al         O\n",
      "Al -7.422518 -4.360637\n",
      "O   0.936519  0.966948\n",
      "\n",
      "## Ri for the specimen:\n",
      "           R\n",
      "Al -5.980548\n",
      "O   0.950748\n",
      "\n",
      "## J for the specimen:\n",
      "J,    element           J\n",
      "0      Al  162.998366\n",
      "1       O  117.688667\n",
      "\n",
      "## S for the specimen:\n",
      "S           Al         O\n",
      "Al  0.465749  0.479989\n",
      "O   0.483370  0.498149\n",
      "\n",
      "## Si for the specimen:\n",
      "Si            S\n",
      "Al  0.472405\n",
      "O   0.490278\n",
      "\n",
      "## For the standard Al:\n",
      "Si standard,  0.46574910559472465\n",
      "Ri standard,  -7.422518102362616\n"
     ]
    },
    {
     "ename": "AttributeError",
     "evalue": "'float' object has no attribute 'iloc'",
     "output_type": "error",
     "traceback": [
      "\u001b[1;31m---------------------------------------------------------------------------\u001b[0m",
      "\u001b[1;31mAttributeError\u001b[0m                            Traceback (most recent call last)",
      "\u001b[1;32m~\\AppData\\Local\\Temp/ipykernel_27988/2536419115.py\u001b[0m in \u001b[0;36m<module>\u001b[1;34m\u001b[0m\n\u001b[0;32m     68\u001b[0m \u001b[0mRi\u001b[0m \u001b[1;33m=\u001b[0m \u001b[0mR1\u001b[0m \u001b[1;33m-\u001b[0m \u001b[0mR2\u001b[0m \u001b[1;33m*\u001b[0m \u001b[0mmath\u001b[0m\u001b[1;33m.\u001b[0m\u001b[0mlog\u001b[0m\u001b[1;33m(\u001b[0m\u001b[0mR3\u001b[0m\u001b[1;33m*\u001b[0m\u001b[0mZ\u001b[0m\u001b[1;33m[\u001b[0m\u001b[1;34m\"Al\"\u001b[0m\u001b[1;33m]\u001b[0m \u001b[1;33m+\u001b[0m \u001b[1;36m25\u001b[0m\u001b[1;33m)\u001b[0m\u001b[1;33m\u001b[0m\u001b[1;33m\u001b[0m\u001b[0m\n\u001b[0;32m     69\u001b[0m \u001b[0mprint\u001b[0m\u001b[1;33m(\u001b[0m\u001b[1;34m\"Ri standard, \"\u001b[0m\u001b[1;33m,\u001b[0m \u001b[0mRi\u001b[0m\u001b[1;33m)\u001b[0m\u001b[1;33m\u001b[0m\u001b[1;33m\u001b[0m\u001b[0m\n\u001b[1;32m---> 70\u001b[1;33m \u001b[0mZ_Li\u001b[0m \u001b[1;33m=\u001b[0m \u001b[1;33m(\u001b[0m\u001b[0mRi\u001b[0m\u001b[1;33m.\u001b[0m\u001b[0miloc\u001b[0m\u001b[1;33m[\u001b[0m\u001b[1;36m0\u001b[0m\u001b[1;33m]\u001b[0m\u001b[1;33m.\u001b[0m\u001b[0mvalues\u001b[0m\u001b[1;33m/\u001b[0m\u001b[0mRi_std\u001b[0m\u001b[1;33m)\u001b[0m\u001b[1;33m*\u001b[0m\u001b[1;33m(\u001b[0m\u001b[0mSi_std\u001b[0m\u001b[1;33m/\u001b[0m\u001b[0mSi\u001b[0m\u001b[1;33m.\u001b[0m\u001b[0miloc\u001b[0m\u001b[1;33m[\u001b[0m\u001b[1;36m0\u001b[0m\u001b[1;33m]\u001b[0m\u001b[1;33m.\u001b[0m\u001b[0mvalues\u001b[0m\u001b[1;33m)\u001b[0m\u001b[1;33m\u001b[0m\u001b[1;33m\u001b[0m\u001b[0m\n\u001b[0m\u001b[0;32m     71\u001b[0m \u001b[1;31m# print(\"Ri Li\", Ri.iloc[0])\u001b[0m\u001b[1;33m\u001b[0m\u001b[1;33m\u001b[0m\u001b[0m\n\u001b[0;32m     72\u001b[0m \u001b[1;31m# print(\"Si Li\", Si.iloc[0])\u001b[0m\u001b[1;33m\u001b[0m\u001b[1;33m\u001b[0m\u001b[0m\n",
      "\u001b[1;31mAttributeError\u001b[0m: 'float' object has no attribute 'iloc'"
     ]
    }
   ],
   "source": [
    "#### Test data\n",
    "elements = [\"Al\",\"Cu\"]\n",
    "C = {'Al': 0.02, 'Cu': 0.98}\n",
    "Ec = {'Al': 1.56 , 'Cu': 8.98}\n",
    "A = {'Al': 26.98 , 'Cu': 63.55}\n",
    "Z = {'Al':13  , 'Cu': 29}\n",
    "#### Atomic Number Factor Z ####\n",
    "# The so-called atomic number effect in electron microprobe analysis arises from two phenomena, namely, electron backscattering and electron retardation.\n",
    "# both of which depend upon the average atomic number of the target.\n",
    "# ! this correction is needed if there is a difference between the average atomic number of the specimen and that of the standard\n",
    "# “light elements in a heavy matrix usually yield values which are too high.” ([Goldstein et al., 1981, p. 317])\n",
    "\n",
    "# calculating the average Z of the sample\n",
    "avg_z_spec = 0\n",
    "for idx, value in enumerate(elements):\n",
    "    avg_z_spec = avg_z_spec + C[value] * Z[value]\n",
    "print('Average atomic number of the specimen: ',avg_z_spec)\n",
    "############################## for Cu Ka ############################## \n",
    "## R backscattering correction factors range from 0.5-1 (close to 1 at low atomic numbers) \n",
    "# varies with Z and overvoltage U = Eo/Ec (as decreases towards 1 few electrons are backscattered\n",
    "R = np.zeros((len(elements),len(elements)))\n",
    "Ri = np.zeros((len(elements),))\n",
    "for idx1, value1 in enumerate(elements):\n",
    "    for idx2, value2 in enumerate(elements):\n",
    "        U = E0/Ec[value1]\n",
    "        R1 = 8.73 * 0.001 * pow(U,3) - 0.1669 * pow(U,2) + 0.9662 * U + 0.4523\n",
    "        R2 = 2.703 * 0.001 * pow(U,3) - 5.182 * 0.01 * pow(U,2) + 0.302*U -0.1836\n",
    "        R3 = (0.887 * pow(U,3) - 3.44 * U * U + 9.33 * U - 6.43)/pow(U,3)\n",
    "        R[idx1][idx2]= R1 - R2 * math.log(R3*Z[value2] + 25)\n",
    "        Ri[idx1] = Ri[idx1] + C[value2] * R[idx1][idx2]\n",
    "# index is the emitting element\n",
    "Rij_df = pd.DataFrame(R, columns=elements, index=elements)\n",
    "Ri = pd.DataFrame(Ri, columns=['R'], index=elements)\n",
    "print(\"\\n## Rij for the specimen:\")\n",
    "print(Rij_df)\n",
    "print(\"\\n## Ri for the specimen:\")\n",
    "print(Ri)\n",
    "\n",
    "# Ri = sum(j) CjRij\n",
    "# Ri = C[0] * Rij\n",
    "# # mean ionization potential J = 9.76 * Z + 58.8 * pow(Z, -0.19) [eV] # Berger and Seltzer (1964) !!!! problems with Z < 11, by lot of authors\n",
    "J = pd.DataFrame()\n",
    "for idx,value in enumerate(elements):\n",
    "    new_row = pd.DataFrame({'element': [value], 'J': 9.76 * Z[value] + 58.8 * pow(Z[value], -0.19)})\n",
    "    J = J.append(new_row, ignore_index=True)\n",
    "print(\"\\n## J for the specimen:\")\n",
    "print(\"J, \", J)\n",
    "# # S is the electron stopping power \n",
    "# # “i represents the element i which is measured and j represents each of the elements present in the standard or specimen including element i.” ([Goldstein et al., 1981, p. 319]\n",
    "S = np.zeros((len(elements),len(elements)))\n",
    "Si = np.zeros((len(elements),))\n",
    "for idx1, value1 in enumerate(elements):\n",
    "    for idx2, value2 in enumerate(elements):\n",
    "        S[idx1][idx2]= (Z[value1] / (A[value1]*(E0 + Ec[value2]))) * math.log(583*(E0+Ec[value2])/J[J['element'] == value2]['J'].values[0])\n",
    "        Si[idx1] = Si[idx1] + C[value2] * S[idx1][idx2]\n",
    "# index is the emitting element\n",
    "S = pd.DataFrame(S, columns=elements, index=elements)\n",
    "Si = pd.DataFrame(Si, columns=['S'], index=elements)\n",
    "print(\"\\n## S for the specimen:\")\n",
    "print(\"S\", S)\n",
    "print(\"\\n## Si for the specimen:\")\n",
    "print(\"Si\", Si)\n",
    "\n",
    "## For the standard\n",
    "# Using of element Cu\n",
    "print(\"\\n## For the standard Cu:\")\n",
    "Si = (Z[\"Cu\"] / (A[\"Cu\"]*(E0 + Ec[\"Cu\"]))) * math.log(583*(E0+Ec[\"Cu\"])/J[J[\"element\"] ==\"Cu\"][\"J\"].values[0])\n",
    "print(\"Si standard, \", Si)\n",
    "# R Standard\n",
    "U = E0/Ec[\"Cu\"]\n",
    "R1 = 8.73 * 0.001 * pow(U,3) - 0.1669 * pow(U,2) + 0.9662 * U + 0.4523\n",
    "R2 = 2.703 * 0.001 * pow(U,3) - 5.182 * 0.01 * pow(U,2) + 0.302*U -0.1836\n",
    "R3 = (0.887 * pow(U,3) - 3.44 * U * U + 9.33 * U - 6.43)/pow(U,3)\n",
    "Ri = R1 - R2 * math.log(R3*Z[\"Cu\"] + 25)\n",
    "print(\"Ri standard, \", Ri)\n",
    "\n",
    "\n",
    "###\"\"\"\n",
    "# As discussed earlier unless the atomic number effect is corrected for, \n",
    "# analyses of heavy elements in a light element matrix (Cu in AI) generally \n",
    "# yield values which are too low (Zj > I) while analyses of light elements \n",
    "# in a heavy matrix (AI in Cu) usually yield values which are too high (Zj < I).\n",
    "#\"\"\""
   ]
  },
  {
   "cell_type": "markdown",
   "id": "ec1ea85c-c22e-44d5-8e9c-16a32de9720c",
   "metadata": {},
   "source": [
    "## Example of Al in pure aluminum and in alumina quantification"
   ]
  },
  {
   "cell_type": "code",
   "execution_count": null,
   "id": "be8c36a5-2fae-4e40-866b-fabdefeb7364",
   "metadata": {},
   "outputs": [
    {
     "name": "stdout",
     "output_type": "stream",
     "text": [
      "3.8.1\n"
     ]
    },
    {
     "ename": "NameError",
     "evalue": "name 'Z_Li' is not defined",
     "output_type": "error",
     "traceback": [
      "\u001b[1;31m---------------------------------------------------------------------------\u001b[0m",
      "\u001b[1;31mNameError\u001b[0m                                 Traceback (most recent call last)",
      "\u001b[1;32m~\\AppData\\Local\\Temp/ipykernel_27988/379724898.py\u001b[0m in \u001b[0;36m<module>\u001b[1;34m\u001b[0m\n\u001b[0;32m      4\u001b[0m \u001b[0mspecies\u001b[0m \u001b[1;33m=\u001b[0m \u001b[1;33m(\u001b[0m\u001b[1;34m\"Al2O\"\u001b[0m\u001b[1;33m,\u001b[0m \u001b[1;34m\"\"\u001b[0m\u001b[1;33m,\u001b[0m \u001b[1;34m\"\"\u001b[0m\u001b[1;33m)\u001b[0m\u001b[1;33m\u001b[0m\u001b[1;33m\u001b[0m\u001b[0m\n\u001b[0;32m      5\u001b[0m penguin_means = {\n\u001b[1;32m----> 6\u001b[1;33m     \u001b[1;34m'Z'\u001b[0m\u001b[1;33m:\u001b[0m \u001b[1;33m(\u001b[0m\u001b[0mfloat\u001b[0m\u001b[1;33m(\u001b[0m\u001b[1;34m'{:.2f}'\u001b[0m\u001b[1;33m.\u001b[0m\u001b[0mformat\u001b[0m\u001b[1;33m(\u001b[0m\u001b[0mZ_Li\u001b[0m\u001b[1;33m[\u001b[0m\u001b[1;36m0\u001b[0m\u001b[1;33m]\u001b[0m\u001b[1;33m)\u001b[0m\u001b[1;33m)\u001b[0m\u001b[1;33m,\u001b[0m \u001b[1;36m0\u001b[0m\u001b[1;33m,\u001b[0m\u001b[1;36m0\u001b[0m\u001b[1;33m)\u001b[0m\u001b[1;33m,\u001b[0m\u001b[1;33m\u001b[0m\u001b[1;33m\u001b[0m\u001b[0m\n\u001b[0m\u001b[0;32m      7\u001b[0m     \u001b[1;34m'A'\u001b[0m\u001b[1;33m:\u001b[0m \u001b[1;33m(\u001b[0m\u001b[0mfloat\u001b[0m\u001b[1;33m(\u001b[0m\u001b[1;34m'{:.2f}'\u001b[0m\u001b[1;33m.\u001b[0m\u001b[0mformat\u001b[0m\u001b[1;33m(\u001b[0m\u001b[0mreverse_f_X\u001b[0m\u001b[1;33m)\u001b[0m\u001b[1;33m)\u001b[0m\u001b[1;33m,\u001b[0m \u001b[1;36m0\u001b[0m\u001b[1;33m,\u001b[0m\u001b[1;36m0\u001b[0m\u001b[1;33m)\u001b[0m\u001b[1;33m,\u001b[0m\u001b[1;33m\u001b[0m\u001b[1;33m\u001b[0m\u001b[0m\n\u001b[0;32m      8\u001b[0m     \u001b[1;34m'F'\u001b[0m\u001b[1;33m:\u001b[0m \u001b[1;33m(\u001b[0m\u001b[0mfloat\u001b[0m\u001b[1;33m(\u001b[0m\u001b[1;34m'{:.2f}'\u001b[0m\u001b[1;33m.\u001b[0m\u001b[0mformat\u001b[0m\u001b[1;33m(\u001b[0m\u001b[0mFi\u001b[0m\u001b[1;33m)\u001b[0m\u001b[1;33m)\u001b[0m\u001b[1;33m,\u001b[0m \u001b[1;36m0\u001b[0m\u001b[1;33m,\u001b[0m \u001b[1;36m0\u001b[0m\u001b[1;33m)\u001b[0m\u001b[1;33m,\u001b[0m\u001b[1;33m\u001b[0m\u001b[1;33m\u001b[0m\u001b[0m\n",
      "\u001b[1;31mNameError\u001b[0m: name 'Z_Li' is not defined"
     ]
    }
   ],
   "source": [
    "## calculate the intensity by integrating the area under the peaks\n"
   ]
  }
 ],
 "metadata": {
  "kernelspec": {
   "display_name": "Python 3 (ipykernel)",
   "language": "python",
   "name": "python3"
  },
  "language_info": {
   "codemirror_mode": {
    "name": "ipython",
    "version": 3
   },
   "file_extension": ".py",
   "mimetype": "text/x-python",
   "name": "python",
   "nbconvert_exporter": "python",
   "pygments_lexer": "ipython3",
   "version": "3.9.7"
  }
 },
 "nbformat": 4,
 "nbformat_minor": 5
}
