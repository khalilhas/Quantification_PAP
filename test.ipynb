{
 "cells": [
  {
   "cell_type": "code",
   "execution_count": null,
   "id": "initial_id",
   "metadata": {
    "collapsed": true,
    "is_executing": true,
    "ExecuteTime": {
     "start_time": "2024-01-26T14:24:37.343077500Z"
    }
   },
   "outputs": [],
   "source": [
    "import numpy as np\n",
    "number_of_standards = 10\n",
    "Cel = np.zeros((number_of_standards,92))\n",
    "Std_AtWtPc = Cel\n",
    "\n",
    "Std_AtWtPc[:, [10, 18, 19, 21, 24, 25, 23, 7, 13, 12, 11, 14, 55, 27, 8, 16]] = np.array([\n",
    "    [8.75,0.02,0.00,0.00,0.00,0.05,0.00,48.82,32.13,10.25,0.00,0.00,0.00,0.00,0.00,0.00],\n",
    "    [0.80,12.40,0.00,0.00,0.00,0.00,0.00,46.14,30.06,9.90,0.00,0.00,0.00,0.00,0.00,0.00],\n",
    "    [1.03,0.00,15.33,0.00,0.06,1.24,1.08,44.38,25.68,1.06,10.10,0.00,0.00,0.04,0.00,0.00],\n",
    "    [0.00,0.00,0.00,31.76,36.42,0.00,0.00,31.82,0.00,0.00,0.00,0.00,0.00,0.00,0.00,0.00],\n",
    "    [0.00,0.00,0.00,0.00,0.00,69.93,0.00,30.07,0.00,0.00,0.00,0.00,0.00,0.00,0.00,0.00],\n",
    "    [0.00,0.00,0.00,0.00,0.00,0.00,68.45,31.55,0.00,0.00,0.00,0.00,0.00,0.00,0.00,0.00],\n",
    "    [0.00,0.00,0.00,0.00,0.00,0.00,0.00,53.26,46.74,0.00,0.00,0.00,0.00,0.00,0.00,0.00],\n",
    "    [0.00,0.00,3.00,0.00,0.37,17.14,0.00,42.52,18.36,11.76,6.86,0.00,0.00,0.00,0.00,0.00],\n",
    "    [0.00,0.00,39.02,0.00,0.00,0.00,0.00,38.92,0.00,0.00,0.00,18.31,0.00,0.00,3.40,0.35],\n",
    "    [0.00,0.00,0.00,0.00,0.00,2.39,0.00,45.00,19.65,0.00,32.88,0.00,0.00,0.00,0.00,0.00],\n",
    "])\n",
    "\n",
    "# Standards to use with each acquisition\n",
    "number_of_acquisitions = 3\n",
    "EPMA_Std = np.zeros((number_of_acquisitions,92))\n",
    "EPMA_Std[:,[10, 18, 19, 21, 24, 25, 23, 7, 13, 12, 11, 14]] =np.array([\n",
    "    [0,1,2,3,3,4,5,6,2,1,2,2], # have changed the last value\n",
    "    [0,1,2,3,3,4,5,6,2,1,2,2], # have changed the last value\n",
    "    [0,1,2,3,3,4,5,6,2,1,2,2], # have changed the last value\n",
    "])\n",
    "\n",
    "# Assuming EPMA_Std is a numpy array\n",
    "Cstd = np.zeros_like(EPMA_Std) * np.nan\n",
    "which = EPMA_Std > 0  # select used standards - khalil: elements present in the standard sample\n",
    "row = EPMA_Std[which]"
   ]
  },
  {
   "cell_type": "code",
   "execution_count": null,
   "outputs": [],
   "source": [],
   "metadata": {
    "collapsed": false
   },
   "id": "95981220e7970f82"
  }
 ],
 "metadata": {
  "kernelspec": {
   "display_name": "Python 3",
   "language": "python",
   "name": "python3"
  },
  "language_info": {
   "codemirror_mode": {
    "name": "ipython",
    "version": 2
   },
   "file_extension": ".py",
   "mimetype": "text/x-python",
   "name": "python",
   "nbconvert_exporter": "python",
   "pygments_lexer": "ipython2",
   "version": "2.7.6"
  }
 },
 "nbformat": 4,
 "nbformat_minor": 5
}
